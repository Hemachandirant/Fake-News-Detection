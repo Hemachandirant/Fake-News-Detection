{
  "nbformat": 4,
  "nbformat_minor": 0,
  "metadata": {
    "colab": {
      "name": "Fakenewsdetection.ipynb",
      "provenance": [],
      "collapsed_sections": []
    },
    "kernelspec": {
      "name": "python3",
      "display_name": "Python 3"
    },
    "language_info": {
      "name": "python"
    },
    "accelerator": "GPU"
  },
  "cells": [
    {
      "cell_type": "code",
      "metadata": {
        "id": "1Y3A_gitJmb4"
      },
      "source": [
        "import numpy as np # linear algebra\n",
        "import pandas as pd # data processing, CSV file I/O (e.g. pd.read_csv)\n",
        "import numpy as np\n",
        "import pandas as pd"
      ],
      "execution_count": null,
      "outputs": []
    },
    {
      "cell_type": "code",
      "metadata": {
        "id": "hLa9Zx-X7tI9"
      },
      "source": [
        "data=pd.read_csv('/content/train.csv')"
      ],
      "execution_count": null,
      "outputs": []
    },
    {
      "cell_type": "code",
      "metadata": {
        "id": "8TGxrZ7I7tLc"
      },
      "source": [
        "test=pd.read_csv('/content/test.csv')"
      ],
      "execution_count": null,
      "outputs": []
    },
    {
      "cell_type": "code",
      "metadata": {
        "colab": {
          "base_uri": "https://localhost:8080/"
        },
        "id": "4MkHIizD7tPQ",
        "outputId": "ee263441-f555-4baf-82a4-09eb5a3e0041"
      },
      "source": [
        "data.shape"
      ],
      "execution_count": null,
      "outputs": [
        {
          "output_type": "execute_result",
          "data": {
            "text/plain": [
              "(44100, 4)"
            ]
          },
          "metadata": {
            "tags": []
          },
          "execution_count": 35
        }
      ]
    },
    {
      "cell_type": "code",
      "metadata": {
        "colab": {
          "base_uri": "https://localhost:8080/"
        },
        "id": "ufWd1b917tR9",
        "outputId": "8422af11-0055-434e-e58a-5050d9b3b050"
      },
      "source": [
        "data.head(2)"
      ],
      "execution_count": null,
      "outputs": [
        {
          "output_type": "execute_result",
          "data": {
            "text/html": [
              "<div>\n",
              "<style scoped>\n",
              "    .dataframe tbody tr th:only-of-type {\n",
              "        vertical-align: middle;\n",
              "    }\n",
              "\n",
              "    .dataframe tbody tr th {\n",
              "        vertical-align: top;\n",
              "    }\n",
              "\n",
              "    .dataframe thead th {\n",
              "        text-align: right;\n",
              "    }\n",
              "</style>\n",
              "<table border=\"1\" class=\"dataframe\">\n",
              "  <thead>\n",
              "    <tr style=\"text-align: right;\">\n",
              "      <th></th>\n",
              "      <th>ID</th>\n",
              "      <th>author</th>\n",
              "      <th>Review</th>\n",
              "      <th>Sentiment</th>\n",
              "    </tr>\n",
              "  </thead>\n",
              "  <tbody>\n",
              "    <tr>\n",
              "      <th>0</th>\n",
              "      <td>39467</td>\n",
              "      <td>rayinstirling</td>\n",
              "      <td>Today I'm working on my &amp;quot;Quirky Q&amp;quot; c...</td>\n",
              "      <td>2</td>\n",
              "    </tr>\n",
              "    <tr>\n",
              "      <th>1</th>\n",
              "      <td>30154</td>\n",
              "      <td>DirtyRose17</td>\n",
              "      <td>@ShannonElizab dont ya know? people love the h...</td>\n",
              "      <td>1</td>\n",
              "    </tr>\n",
              "  </tbody>\n",
              "</table>\n",
              "</div>"
            ],
            "text/plain": [
              "      ID  ... Sentiment\n",
              "0  39467  ...         2\n",
              "1  30154  ...         1\n",
              "\n",
              "[2 rows x 4 columns]"
            ]
          },
          "metadata": {
            "tags": []
          },
          "execution_count": 36
        }
      ]
    },
    {
      "cell_type": "code",
      "metadata": {
        "colab": {
          "base_uri": "https://localhost:8080/"
        },
        "id": "FaCnEkLg7tUs",
        "outputId": "4cf8c92a-4514-41de-a6e0-0744daaec6d7"
      },
      "source": [
        "test.shape"
      ],
      "execution_count": null,
      "outputs": [
        {
          "output_type": "execute_result",
          "data": {
            "text/plain": [
              "(18900, 3)"
            ]
          },
          "metadata": {
            "tags": []
          },
          "execution_count": 37
        }
      ]
    },
    {
      "cell_type": "code",
      "metadata": {
        "colab": {
          "base_uri": "https://localhost:8080/"
        },
        "id": "XrXhynhu7tXp",
        "outputId": "6e1bc9da-5d4a-42b6-b207-f6256feea6bf"
      },
      "source": [
        "test.head(2)"
      ],
      "execution_count": null,
      "outputs": [
        {
          "output_type": "execute_result",
          "data": {
            "text/html": [
              "<div>\n",
              "<style scoped>\n",
              "    .dataframe tbody tr th:only-of-type {\n",
              "        vertical-align: middle;\n",
              "    }\n",
              "\n",
              "    .dataframe tbody tr th {\n",
              "        vertical-align: top;\n",
              "    }\n",
              "\n",
              "    .dataframe thead th {\n",
              "        text-align: right;\n",
              "    }\n",
              "</style>\n",
              "<table border=\"1\" class=\"dataframe\">\n",
              "  <thead>\n",
              "    <tr style=\"text-align: right;\">\n",
              "      <th></th>\n",
              "      <th>ID</th>\n",
              "      <th>author</th>\n",
              "      <th>Review</th>\n",
              "    </tr>\n",
              "  </thead>\n",
              "  <tbody>\n",
              "    <tr>\n",
              "      <th>0</th>\n",
              "      <td>29536</td>\n",
              "      <td>nathantbaker</td>\n",
              "      <td>@amyswarren ahhh yay! I'm getting into it. Kno...</td>\n",
              "    </tr>\n",
              "    <tr>\n",
              "      <th>1</th>\n",
              "      <td>13442</td>\n",
              "      <td>Umatter2Chtr</td>\n",
              "      <td>@DeliverImHungry You are right.  If you ordere...</td>\n",
              "    </tr>\n",
              "  </tbody>\n",
              "</table>\n",
              "</div>"
            ],
            "text/plain": [
              "      ID        author                                             Review\n",
              "0  29536  nathantbaker  @amyswarren ahhh yay! I'm getting into it. Kno...\n",
              "1  13442  Umatter2Chtr  @DeliverImHungry You are right.  If you ordere..."
            ]
          },
          "metadata": {
            "tags": []
          },
          "execution_count": 38
        }
      ]
    },
    {
      "cell_type": "code",
      "metadata": {
        "colab": {
          "base_uri": "https://localhost:8080/"
        },
        "id": "VAPGZFRU7tZk",
        "outputId": "74307d2e-0e0e-445c-9ecf-e4161c144000"
      },
      "source": [
        "data.info()"
      ],
      "execution_count": null,
      "outputs": [
        {
          "output_type": "stream",
          "text": [
            "<class 'pandas.core.frame.DataFrame'>\n",
            "RangeIndex: 44100 entries, 0 to 44099\n",
            "Data columns (total 4 columns):\n",
            " #   Column     Non-Null Count  Dtype \n",
            "---  ------     --------------  ----- \n",
            " 0   ID         44100 non-null  int64 \n",
            " 1   author     44100 non-null  object\n",
            " 2   Review     44100 non-null  object\n",
            " 3   Sentiment  44100 non-null  int64 \n",
            "dtypes: int64(2), object(2)\n",
            "memory usage: 1.3+ MB\n"
          ],
          "name": "stdout"
        }
      ]
    },
    {
      "cell_type": "code",
      "metadata": {
        "colab": {
          "base_uri": "https://localhost:8080/"
        },
        "id": "YGhG48cq7tb2",
        "outputId": "8203434f-06ba-4cc1-c33a-8edf73dad681"
      },
      "source": [
        "data.isnull().sum()"
      ],
      "execution_count": null,
      "outputs": [
        {
          "output_type": "execute_result",
          "data": {
            "text/plain": [
              "ID           0\n",
              "author       0\n",
              "Review       0\n",
              "Sentiment    0\n",
              "dtype: int64"
            ]
          },
          "metadata": {
            "tags": []
          },
          "execution_count": 40
        }
      ]
    },
    {
      "cell_type": "code",
      "metadata": {
        "colab": {
          "base_uri": "https://localhost:8080/"
        },
        "id": "NDlvg76p7tgO",
        "outputId": "69c8666a-426a-4309-981d-ad2de7d294b6"
      },
      "source": [
        "test.isnull().sum()"
      ],
      "execution_count": null,
      "outputs": [
        {
          "output_type": "execute_result",
          "data": {
            "text/plain": [
              "ID        0\n",
              "author    0\n",
              "Review    0\n",
              "dtype: int64"
            ]
          },
          "metadata": {
            "tags": []
          },
          "execution_count": 41
        }
      ]
    },
    {
      "cell_type": "code",
      "metadata": {
        "id": "J64lfxXE7ti-"
      },
      "source": [
        "test=test.fillna(\" \")"
      ],
      "execution_count": null,
      "outputs": []
    },
    {
      "cell_type": "code",
      "metadata": {
        "colab": {
          "base_uri": "https://localhost:8080/"
        },
        "id": "OWeasWlx7toc",
        "outputId": "48957e6a-2aee-4d40-d1c7-040dacf07167"
      },
      "source": [
        "test.isnull().sum()"
      ],
      "execution_count": null,
      "outputs": [
        {
          "output_type": "execute_result",
          "data": {
            "text/plain": [
              "ID        0\n",
              "author    0\n",
              "Review    0\n",
              "dtype: int64"
            ]
          },
          "metadata": {
            "tags": []
          },
          "execution_count": 43
        }
      ]
    },
    {
      "cell_type": "code",
      "metadata": {
        "colab": {
          "base_uri": "https://localhost:8080/"
        },
        "id": "CtLrVoxG7trS",
        "outputId": "6d5afbdc-9949-47f1-bb2a-f88ab2d4a763"
      },
      "source": [
        "data['Sentiment'].hist()"
      ],
      "execution_count": null,
      "outputs": [
        {
          "output_type": "execute_result",
          "data": {
            "text/plain": [
              "<matplotlib.axes._subplots.AxesSubplot at 0x7fc65ad6a6d0>"
            ]
          },
          "metadata": {
            "tags": []
          },
          "execution_count": 44
        },
        {
          "output_type": "display_data",
          "data": {
            "image/png": "[encoded data removed]",
            "text/plain": [
              "<Figure size 432x288 with 1 Axes>"
            ]
          },
          "metadata": {
            "tags": [],
            "needs_background": "light"
          }
        }
      ]
    },
    {
      "cell_type": "code",
      "metadata": {
        "id": "eCwJCqHb7twO"
      },
      "source": [
        "x=data.drop(['Sentiment'],1)"
      ],
      "execution_count": null,
      "outputs": []
    },
    {
      "cell_type": "code",
      "metadata": {
        "id": "_o9pmoyv7t0c"
      },
      "source": [
        "y=data['Sentiment']"
      ],
      "execution_count": null,
      "outputs": []
    },
    {
      "cell_type": "code",
      "metadata": {
        "colab": {
          "base_uri": "https://localhost:8080/"
        },
        "id": "b64zA3tO7t3Y",
        "outputId": "b80d53d9-d0f7-466e-a247-00206ab7bdee"
      },
      "source": [
        "x.head(2)"
      ],
      "execution_count": null,
      "outputs": [
        {
          "output_type": "execute_result",
          "data": {
            "text/html": [
              "<div>\n",
              "<style scoped>\n",
              "    .dataframe tbody tr th:only-of-type {\n",
              "        vertical-align: middle;\n",
              "    }\n",
              "\n",
              "    .dataframe tbody tr th {\n",
              "        vertical-align: top;\n",
              "    }\n",
              "\n",
              "    .dataframe thead th {\n",
              "        text-align: right;\n",
              "    }\n",
              "</style>\n",
              "<table border=\"1\" class=\"dataframe\">\n",
              "  <thead>\n",
              "    <tr style=\"text-align: right;\">\n",
              "      <th></th>\n",
              "      <th>ID</th>\n",
              "      <th>author</th>\n",
              "      <th>Review</th>\n",
              "    </tr>\n",
              "  </thead>\n",
              "  <tbody>\n",
              "    <tr>\n",
              "      <th>0</th>\n",
              "      <td>39467</td>\n",
              "      <td>rayinstirling</td>\n",
              "      <td>Today I'm working on my &amp;quot;Quirky Q&amp;quot; c...</td>\n",
              "    </tr>\n",
              "    <tr>\n",
              "      <th>1</th>\n",
              "      <td>30154</td>\n",
              "      <td>DirtyRose17</td>\n",
              "      <td>@ShannonElizab dont ya know? people love the h...</td>\n",
              "    </tr>\n",
              "  </tbody>\n",
              "</table>\n",
              "</div>"
            ],
            "text/plain": [
              "      ID         author                                             Review\n",
              "0  39467  rayinstirling  Today I'm working on my &quot;Quirky Q&quot; c...\n",
              "1  30154    DirtyRose17  @ShannonElizab dont ya know? people love the h..."
            ]
          },
          "metadata": {
            "tags": []
          },
          "execution_count": 47
        }
      ]
    },
    {
      "cell_type": "code",
      "metadata": {
        "colab": {
          "base_uri": "https://localhost:8080/"
        },
        "id": "Td7PjhmV7t62",
        "outputId": "898921f1-fcbe-4974-c14a-6046a0b7eed3"
      },
      "source": [
        "y.value_counts()"
      ],
      "execution_count": null,
      "outputs": [
        {
          "output_type": "execute_result",
          "data": {
            "text/plain": [
              "0    19299\n",
              "2    18733\n",
              "1     6068\n",
              "Name: Sentiment, dtype: int64"
            ]
          },
          "metadata": {
            "tags": []
          },
          "execution_count": 48
        }
      ]
    },
    {
      "cell_type": "code",
      "metadata": {
        "id": "BE8w5BI57t9h"
      },
      "source": [
        "import tensorflow as tf\n",
        "from tensorflow.keras.layers import Embedding\n",
        "from tensorflow.keras.preprocessing.sequence import pad_sequences\n",
        "from tensorflow.keras.models import Sequential\n",
        "from tensorflow.keras.preprocessing.text import one_hot\n",
        "from tensorflow.keras.layers import LSTM , Dense , Bidirectional , Dropout\n",
        "import nltk\n",
        "import re\n",
        "from nltk.corpus import stopwords\n",
        "from nltk.stem.porter import PorterStemmer\n",
        "from sklearn.metrics import accuracy_score"
      ],
      "execution_count": null,
      "outputs": []
    },
    {
      "cell_type": "code",
      "metadata": {
        "id": "Igx8flzG7uC-"
      },
      "source": [
        "vocabulary_size=6000"
      ],
      "execution_count": null,
      "outputs": []
    },
    {
      "cell_type": "code",
      "metadata": {
        "id": "8jRFbCLl7uFz"
      },
      "source": [
        "news=x.copy()"
      ],
      "execution_count": null,
      "outputs": []
    },
    {
      "cell_type": "code",
      "metadata": {
        "colab": {
          "base_uri": "https://localhost:8080/"
        },
        "id": "9AWLugyb7uLO",
        "outputId": "e2cdf252-e7d5-46df-a6bb-bc9fe5ec07b2"
      },
      "source": [
        "nltk.download('stopwords')"
      ],
      "execution_count": null,
      "outputs": [
        {
          "output_type": "stream",
          "text": [
            "[nltk_data] Downloading package stopwords to /root/nltk_data...\n",
            "[nltk_data]   Package stopwords is already up-to-date!\n"
          ],
          "name": "stdout"
        },
        {
          "output_type": "execute_result",
          "data": {
            "text/plain": [
              "True"
            ]
          },
          "metadata": {
            "tags": []
          },
          "execution_count": 52
        }
      ]
    },
    {
      "cell_type": "code",
      "metadata": {
        "id": "O00qcdZk7uQF"
      },
      "source": [
        "news['Review']=news['Review']+news['author']"
      ],
      "execution_count": null,
      "outputs": []
    },
    {
      "cell_type": "code",
      "metadata": {
        "id": "0ph-8_iI7uUc"
      },
      "source": [
        "test['Review']=test['Review']+test['author']"
      ],
      "execution_count": null,
      "outputs": []
    },
    {
      "cell_type": "code",
      "metadata": {
        "id": "pWyv8_1k7uXX"
      },
      "source": [
        "ps=PorterStemmer()"
      ],
      "execution_count": null,
      "outputs": []
    },
    {
      "cell_type": "code",
      "metadata": {
        "id": "Lj_Mr-fB7uac"
      },
      "source": [
        "corpus=[]"
      ],
      "execution_count": null,
      "outputs": []
    },
    {
      "cell_type": "code",
      "metadata": {
        "colab": {
          "base_uri": "https://localhost:8080/"
        },
        "id": "l03c8yhU7uco",
        "outputId": "b3fa7358-0e80-4cd5-ce4c-a5638a8782e6"
      },
      "source": [
        "news['Review'][0]"
      ],
      "execution_count": null,
      "outputs": [
        {
          "output_type": "execute_result",
          "data": {
            "application/vnd.google.colaboratory.intrinsic+json": {
              "type": "string"
            },
            "text/plain": [
              "\"Today I'm working on my &quot;Quirky Q&quot; cue or maybe it will become a concertorayinstirling\""
            ]
          },
          "metadata": {
            "tags": []
          },
          "execution_count": 59
        }
      ]
    },
    {
      "cell_type": "code",
      "metadata": {
        "colab": {
          "base_uri": "https://localhost:8080/"
        },
        "id": "r3IBQAdq7uf6",
        "outputId": "5e744225-c1dc-47c7-9e16-6520e4f5cef2"
      },
      "source": [
        "re.sub('[^a-zA-Z]' , \" \", news['Review'][0])"
      ],
      "execution_count": null,
      "outputs": [
        {
          "output_type": "execute_result",
          "data": {
            "application/vnd.google.colaboratory.intrinsic+json": {
              "type": "string"
            },
            "text/plain": [
              "'Today I m working on my  quot Quirky Q quot  cue or maybe it will become a concertorayinstirling'"
            ]
          },
          "metadata": {
            "tags": []
          },
          "execution_count": 60
        }
      ]
    },
    {
      "cell_type": "code",
      "metadata": {
        "colab": {
          "base_uri": "https://localhost:8080/"
        },
        "id": "Nv9bwcIJ9e-x",
        "outputId": "a7fca214-2bb9-466c-faa1-b192a12fd42a"
      },
      "source": [
        "re.sub('[^a-zA-Z]' , \" \", news['Review'][0]).lower()"
      ],
      "execution_count": null,
      "outputs": [
        {
          "output_type": "execute_result",
          "data": {
            "application/vnd.google.colaboratory.intrinsic+json": {
              "type": "string"
            },
            "text/plain": [
              "'today i m working on my  quot quirky q quot  cue or maybe it will become a concertorayinstirling'"
            ]
          },
          "metadata": {
            "tags": []
          },
          "execution_count": 61
        }
      ]
    },
    {
      "cell_type": "code",
      "metadata": {
        "colab": {
          "base_uri": "https://localhost:8080/"
        },
        "id": "9TC8vb949fDM",
        "outputId": "ae248ca0-8b68-45c6-aa72-7532d5acd678"
      },
      "source": [
        "words=re.sub('[^a-zA-Z]' , \" \", news['Review'][0]).lower().split()\n",
        "words"
      ],
      "execution_count": null,
      "outputs": [
        {
          "output_type": "execute_result",
          "data": {
            "text/plain": [
              "['today',\n",
              " 'i',\n",
              " 'm',\n",
              " 'working',\n",
              " 'on',\n",
              " 'my',\n",
              " 'quot',\n",
              " 'quirky',\n",
              " 'q',\n",
              " 'quot',\n",
              " 'cue',\n",
              " 'or',\n",
              " 'maybe',\n",
              " 'it',\n",
              " 'will',\n",
              " 'become',\n",
              " 'a',\n",
              " 'concertorayinstirling']"
            ]
          },
          "metadata": {
            "tags": []
          },
          "execution_count": 62
        }
      ]
    },
    {
      "cell_type": "code",
      "metadata": {
        "colab": {
          "base_uri": "https://localhost:8080/"
        },
        "id": "AgBRTYTs9fGH",
        "outputId": "7aa1c2a8-0b83-4db1-e040-fcf248bfd9f1"
      },
      "source": [
        "[ps.stem(word) for word in words if not word in stopwords.words('english')]"
      ],
      "execution_count": null,
      "outputs": [
        {
          "output_type": "execute_result",
          "data": {
            "text/plain": [
              "['today',\n",
              " 'work',\n",
              " 'quot',\n",
              " 'quirki',\n",
              " 'q',\n",
              " 'quot',\n",
              " 'cue',\n",
              " 'mayb',\n",
              " 'becom',\n",
              " 'concertorayinstirl']"
            ]
          },
          "metadata": {
            "tags": []
          },
          "execution_count": 63
        }
      ]
    },
    {
      "cell_type": "code",
      "metadata": {
        "id": "UtzPfVSB9fJP"
      },
      "source": [
        "for i in range(len(news)):\n",
        "    title=re.sub('[^a-zA-Z]' , \" \", news['Review'][i]).lower().split()\n",
        "    title= [ps.stem(word) for word in title if not word in stopwords.words('english')]\n",
        "    title=' '.join(title)\n",
        "    corpus.append(title)"
      ],
      "execution_count": null,
      "outputs": []
    },
    {
      "cell_type": "code",
      "metadata": {
        "id": "P8rcaaIi9fNb"
      },
      "source": [
        "corpus_test=[]\n",
        "for i in range(len(test)):\n",
        "    title=re.sub('[^a-zA-Z]' , \" \", test['Review'][i]).lower().split()\n",
        "    title= [ps.stem(word) for word in title if not word in stopwords.words('english')]\n",
        "    title=' '.join(title)\n",
        "    corpus_test.append(title)"
      ],
      "execution_count": null,
      "outputs": []
    },
    {
      "cell_type": "code",
      "metadata": {
        "colab": {
          "base_uri": "https://localhost:8080/"
        },
        "id": "KI5LXVDX9fQi",
        "outputId": "c1c5a1aa-71aa-41f7-dce1-1f06ef47c084"
      },
      "source": [
        "len(corpus_test)"
      ],
      "execution_count": null,
      "outputs": [
        {
          "output_type": "execute_result",
          "data": {
            "text/plain": [
              "18900"
            ]
          },
          "metadata": {
            "tags": []
          },
          "execution_count": 66
        }
      ]
    },
    {
      "cell_type": "code",
      "metadata": {
        "colab": {
          "base_uri": "https://localhost:8080/"
        },
        "id": "XyopjnlZ9fVI",
        "outputId": "d952c31d-ab14-44d4-e543-e3a7bb9f6af9"
      },
      "source": [
        "corpus[:4]"
      ],
      "execution_count": null,
      "outputs": [
        {
          "output_type": "execute_result",
          "data": {
            "text/plain": [
              "['today work quot quirki q quot cue mayb becom concertorayinstirl',\n",
              " 'shannonelizab dont ya know peopl love human societydirtyros',\n",
              " 'ughhh reject mediat program suckssss yoliemichel',\n",
              " 'petewentz im jealou want octo drivejayamelwani']"
            ]
          },
          "metadata": {
            "tags": []
          },
          "execution_count": 67
        }
      ]
    },
    {
      "cell_type": "code",
      "metadata": {
        "id": "3SXmzrsq9fXr"
      },
      "source": [
        "onehot_representation=[one_hot(words , vocabulary_size) for words in corpus] "
      ],
      "execution_count": null,
      "outputs": []
    },
    {
      "cell_type": "code",
      "metadata": {
        "id": "JM1hLFRz9fcA"
      },
      "source": [
        "onehot_representation_test=[one_hot(words , vocabulary_size) for words in corpus_test] "
      ],
      "execution_count": null,
      "outputs": []
    },
    {
      "cell_type": "code",
      "metadata": {
        "colab": {
          "base_uri": "https://localhost:8080/"
        },
        "id": "327cnnda9fgU",
        "outputId": "0e17ce56-9116-4a9f-a859-38cf12bb7b92"
      },
      "source": [
        "onehot_representation[:5]"
      ],
      "execution_count": null,
      "outputs": [
        {
          "output_type": "execute_result",
          "data": {
            "text/plain": [
              "[[4318, 3736, 3509, 1928, 635, 3509, 1753, 1403, 3959, 5210],\n",
              " [2543, 5836, 4876, 971, 554, 3748, 5336, 3752],\n",
              " [1311, 317, 2741, 1117, 1651, 781],\n",
              " [2557, 3144, 99, 2172, 2795, 1397],\n",
              " [1853,\n",
              "  3461,\n",
              "  2932,\n",
              "  3983,\n",
              "  2849,\n",
              "  1489,\n",
              "  3684,\n",
              "  2220,\n",
              "  1905,\n",
              "  2215,\n",
              "  2638,\n",
              "  587,\n",
              "  5342,\n",
              "  3117,\n",
              "  5198,\n",
              "  5834,\n",
              "  4122,\n",
              "  2638,\n",
              "  5596,\n",
              "  5596,\n",
              "  1831,\n",
              "  4864,\n",
              "  3983,\n",
              "  4919,\n",
              "  4685,\n",
              "  3155,\n",
              "  2928,\n",
              "  4457,\n",
              "  1459,\n",
              "  675,\n",
              "  5834,\n",
              "  4122,\n",
              "  1722,\n",
              "  110,\n",
              "  1403,\n",
              "  58,\n",
              "  230,\n",
              "  5543,\n",
              "  2016,\n",
              "  4122,\n",
              "  1250,\n",
              "  207,\n",
              "  2799,\n",
              "  1689,\n",
              "  415,\n",
              "  1239,\n",
              "  5834,\n",
              "  465,\n",
              "  1146,\n",
              "  2386,\n",
              "  2053,\n",
              "  2144,\n",
              "  1740,\n",
              "  1722,\n",
              "  5342,\n",
              "  3117,\n",
              "  5596,\n",
              "  5596,\n",
              "  2146,\n",
              "  4290,\n",
              "  2533,\n",
              "  4122,\n",
              "  230,\n",
              "  1413,\n",
              "  4382,\n",
              "  1489,\n",
              "  1669,\n",
              "  912,\n",
              "  4160,\n",
              "  3436,\n",
              "  2410,\n",
              "  1121,\n",
              "  138,\n",
              "  3748,\n",
              "  4737,\n",
              "  3336,\n",
              "  1146,\n",
              "  4626,\n",
              "  2053,\n",
              "  5834,\n",
              "  5596,\n",
              "  5596,\n",
              "  465,\n",
              "  4290,\n",
              "  3232,\n",
              "  2146,\n",
              "  3232,\n",
              "  1364,\n",
              "  1915,\n",
              "  2220,\n",
              "  1905,\n",
              "  5834,\n",
              "  5559,\n",
              "  2215,\n",
              "  5107,\n",
              "  4826,\n",
              "  5868,\n",
              "  2861,\n",
              "  5691,\n",
              "  4985,\n",
              "  3196,\n",
              "  4826,\n",
              "  2211,\n",
              "  1614,\n",
              "  3117,\n",
              "  5596,\n",
              "  5596,\n",
              "  5636,\n",
              "  2383,\n",
              "  3748,\n",
              "  3685,\n",
              "  5990,\n",
              "  939,\n",
              "  4122,\n",
              "  5834,\n",
              "  3275,\n",
              "  3494,\n",
              "  1198,\n",
              "  2967,\n",
              "  3232,\n",
              "  971,\n",
              "  2967,\n",
              "  870,\n",
              "  1434,\n",
              "  1353,\n",
              "  5013,\n",
              "  4014,\n",
              "  3329,\n",
              "  2967,\n",
              "  3936,\n",
              "  5045,\n",
              "  3336,\n",
              "  2066,\n",
              "  2928,\n",
              "  5559,\n",
              "  2165,\n",
              "  1916,\n",
              "  4302,\n",
              "  3936,\n",
              "  230,\n",
              "  3983,\n",
              "  2794,\n",
              "  3284,\n",
              "  1116,\n",
              "  3105,\n",
              "  887,\n",
              "  3648,\n",
              "  4122,\n",
              "  14,\n",
              "  1121,\n",
              "  4995,\n",
              "  5972,\n",
              "  2928,\n",
              "  1886,\n",
              "  5596,\n",
              "  5596,\n",
              "  1996,\n",
              "  4306,\n",
              "  4586,\n",
              "  5057,\n",
              "  1250,\n",
              "  4122,\n",
              "  4800,\n",
              "  5709,\n",
              "  1580,\n",
              "  4720,\n",
              "  1442,\n",
              "  3539,\n",
              "  1403,\n",
              "  2883,\n",
              "  543,\n",
              "  1602,\n",
              "  1403,\n",
              "  1908,\n",
              "  2456,\n",
              "  2614,\n",
              "  4407,\n",
              "  2603,\n",
              "  1140,\n",
              "  586,\n",
              "  4122,\n",
              "  971,\n",
              "  1040,\n",
              "  2747,\n",
              "  2769,\n",
              "  4407,\n",
              "  2015,\n",
              "  2603,\n",
              "  1663,\n",
              "  153,\n",
              "  5636,\n",
              "  3344,\n",
              "  1146,\n",
              "  2386,\n",
              "  2053,\n",
              "  4282,\n",
              "  5379,\n",
              "  4337,\n",
              "  1430,\n",
              "  4919,\n",
              "  1939,\n",
              "  4603,\n",
              "  5632,\n",
              "  5596,\n",
              "  5596,\n",
              "  2294,\n",
              "  3983,\n",
              "  587,\n",
              "  5303,\n",
              "  2874,\n",
              "  4718,\n",
              "  5902,\n",
              "  4188,\n",
              "  1821,\n",
              "  4921,\n",
              "  1229,\n",
              "  5003,\n",
              "  3407,\n",
              "  5303,\n",
              "  2371,\n",
              "  675,\n",
              "  3155,\n",
              "  5543,\n",
              "  3395,\n",
              "  2211,\n",
              "  3307,\n",
              "  5562,\n",
              "  78,\n",
              "  1430,\n",
              "  3136,\n",
              "  5931,\n",
              "  4784,\n",
              "  5596,\n",
              "  5596,\n",
              "  2172,\n",
              "  4919,\n",
              "  4718,\n",
              "  2675,\n",
              "  5834,\n",
              "  3983,\n",
              "  3608,\n",
              "  5164,\n",
              "  1700,\n",
              "  4641,\n",
              "  4,\n",
              "  5834,\n",
              "  5636,\n",
              "  4515,\n",
              "  4388,\n",
              "  4653,\n",
              "  5012,\n",
              "  5964,\n",
              "  58,\n",
              "  814,\n",
              "  2533,\n",
              "  4666,\n",
              "  1693,\n",
              "  124,\n",
              "  4081,\n",
              "  2932,\n",
              "  4568,\n",
              "  3128,\n",
              "  297,\n",
              "  5403,\n",
              "  5631,\n",
              "  5596,\n",
              "  5596,\n",
              "  2138,\n",
              "  1853,\n",
              "  2849,\n",
              "  1489,\n",
              "  2749,\n",
              "  1941,\n",
              "  706,\n",
              "  4427,\n",
              "  2494,\n",
              "  2318,\n",
              "  5295,\n",
              "  5683,\n",
              "  153,\n",
              "  2177,\n",
              "  4572,\n",
              "  1853,\n",
              "  4992,\n",
              "  3983,\n",
              "  3648,\n",
              "  4985,\n",
              "  5303,\n",
              "  2153,\n",
              "  2520,\n",
              "  5596,\n",
              "  5596,\n",
              "  4626,\n",
              "  319,\n",
              "  4056]]"
            ]
          },
          "metadata": {
            "tags": []
          },
          "execution_count": 70
        }
      ]
    },
    {
      "cell_type": "code",
      "metadata": {
        "id": "e5uIHj5r7uiK"
      },
      "source": [
        "padding_length=25\n",
        "padded_title=pad_sequences(onehot_representation , padding='pre' , maxlen=padding_length)"
      ],
      "execution_count": null,
      "outputs": []
    },
    {
      "cell_type": "code",
      "metadata": {
        "id": "dPfjhXqn7ulq"
      },
      "source": [
        "padded_title_test=pad_sequences(onehot_representation_test , padding='pre' , maxlen=padding_length)"
      ],
      "execution_count": null,
      "outputs": []
    },
    {
      "cell_type": "code",
      "metadata": {
        "colab": {
          "base_uri": "https://localhost:8080/"
        },
        "id": "KUP2v7Wp-QHY",
        "outputId": "ec160a94-bb56-4bcc-a1d1-892663d4fcd0"
      },
      "source": [
        "padded_title[:5]"
      ],
      "execution_count": null,
      "outputs": [
        {
          "output_type": "execute_result",
          "data": {
            "text/plain": [
              "array([[   0,    0,    0,    0,    0,    0,    0,    0,    0,    0,    0,\n",
              "           0,    0,    0,    0, 4318, 3736, 3509, 1928,  635, 3509, 1753,\n",
              "        1403, 3959, 5210],\n",
              "       [   0,    0,    0,    0,    0,    0,    0,    0,    0,    0,    0,\n",
              "           0,    0,    0,    0,    0,    0, 2543, 5836, 4876,  971,  554,\n",
              "        3748, 5336, 3752],\n",
              "       [   0,    0,    0,    0,    0,    0,    0,    0,    0,    0,    0,\n",
              "           0,    0,    0,    0,    0,    0,    0,    0, 1311,  317, 2741,\n",
              "        1117, 1651,  781],\n",
              "       [   0,    0,    0,    0,    0,    0,    0,    0,    0,    0,    0,\n",
              "           0,    0,    0,    0,    0,    0,    0,    0, 2557, 3144,   99,\n",
              "        2172, 2795, 1397],\n",
              "       [1489, 2749, 1941,  706, 4427, 2494, 2318, 5295, 5683,  153, 2177,\n",
              "        4572, 1853, 4992, 3983, 3648, 4985, 5303, 2153, 2520, 5596, 5596,\n",
              "        4626,  319, 4056]], dtype=int32)"
            ]
          },
          "metadata": {
            "tags": []
          },
          "execution_count": 73
        }
      ]
    },
    {
      "cell_type": "code",
      "metadata": {
        "colab": {
          "base_uri": "https://localhost:8080/"
        },
        "id": "WHD5E-Vm-QKR",
        "outputId": "a19951b8-01b6-4d6e-ed20-52db8332b3a8"
      },
      "source": [
        "len(padded_title)"
      ],
      "execution_count": null,
      "outputs": [
        {
          "output_type": "execute_result",
          "data": {
            "text/plain": [
              "44100"
            ]
          },
          "metadata": {
            "tags": []
          },
          "execution_count": 74
        }
      ]
    },
    {
      "cell_type": "code",
      "metadata": {
        "colab": {
          "base_uri": "https://localhost:8080/"
        },
        "id": "F5vqz1RJ-QM_",
        "outputId": "edd2c619-24c9-49fd-ab81-506aaa88c624"
      },
      "source": [
        "y.shape"
      ],
      "execution_count": null,
      "outputs": [
        {
          "output_type": "execute_result",
          "data": {
            "text/plain": [
              "(44100,)"
            ]
          },
          "metadata": {
            "tags": []
          },
          "execution_count": 75
        }
      ]
    },
    {
      "cell_type": "code",
      "metadata": {
        "id": "10unowLS-QR7"
      },
      "source": [
        "x=np.array(padded_title)\n",
        "y=np.array(y)"
      ],
      "execution_count": null,
      "outputs": []
    },
    {
      "cell_type": "code",
      "metadata": {
        "id": "w0e8mPqu-QUp"
      },
      "source": [
        "x_test=np.array(padded_title_test)"
      ],
      "execution_count": null,
      "outputs": []
    },
    {
      "cell_type": "code",
      "metadata": {
        "id": "XPWbZdx6-QXZ"
      },
      "source": [
        "model2=Sequential([\n",
        "    Embedding(vocabulary_size , 40, input_length=padding_length),\n",
        "    Dropout(0.3),\n",
        "    LSTM(100),\n",
        "    Dropout(0.3),\n",
        "    Dense(64,activation='relu'),\n",
        "    Dropout(0.3),\n",
        "    Dense(1,activation='sigmoid')\n",
        "])\n",
        "model2.compile(loss='binary_crossentropy',optimizer='adam',metrics=['accuracy'])"
      ],
      "execution_count": null,
      "outputs": []
    },
    {
      "cell_type": "code",
      "metadata": {
        "colab": {
          "base_uri": "https://localhost:8080/"
        },
        "id": "YnIGgbFR-QaU",
        "outputId": "1d00a615-97f2-4d9e-d216-1082babfc699"
      },
      "source": [
        "history=model2.fit(x,y,epochs=100,batch_size=64)"
      ],
      "execution_count": null,
      "outputs": [
        {
          "output_type": "stream",
          "text": [
            "Epoch 1/100\n",
            "690/690 [==============================] - 6s 8ms/step - loss: -12402.2422 - accuracy: 0.2869\n",
            "Epoch 2/100\n",
            "690/690 [==============================] - 6s 9ms/step - loss: -14977.1494 - accuracy: 0.2819\n",
            "Epoch 3/100\n",
            "690/690 [==============================] - 6s 9ms/step - loss: -18370.3984 - accuracy: 0.2863\n",
            "Epoch 4/100\n",
            "690/690 [==============================] - 6s 9ms/step - loss: -21876.8594 - accuracy: 0.2890\n",
            "Epoch 5/100\n",
            "690/690 [==============================] - 6s 9ms/step - loss: -25692.9004 - accuracy: 0.2895\n",
            "Epoch 6/100\n",
            "690/690 [==============================] - 6s 9ms/step - loss: -29356.8984 - accuracy: 0.2918\n",
            "Epoch 7/100\n",
            "690/690 [==============================] - 6s 8ms/step - loss: -33121.0742 - accuracy: 0.2916\n",
            "Epoch 8/100\n",
            "690/690 [==============================] - 6s 8ms/step - loss: -37135.3203 - accuracy: 0.2891\n",
            "Epoch 9/100\n",
            "690/690 [==============================] - 6s 8ms/step - loss: -43068.6055 - accuracy: 0.2932\n",
            "Epoch 10/100\n",
            "690/690 [==============================] - 6s 8ms/step - loss: -47346.7461 - accuracy: 0.2920\n",
            "Epoch 11/100\n",
            "690/690 [==============================] - 6s 8ms/step - loss: -53006.7031 - accuracy: 0.2929\n",
            "Epoch 12/100\n",
            "690/690 [==============================] - 6s 8ms/step - loss: -58282.4688 - accuracy: 0.2928\n",
            "Epoch 13/100\n",
            "690/690 [==============================] - 6s 9ms/step - loss: -65649.5703 - accuracy: 0.2978\n",
            "Epoch 14/100\n",
            "690/690 [==============================] - 6s 9ms/step - loss: -72149.2891 - accuracy: 0.3003\n",
            "Epoch 15/100\n",
            "690/690 [==============================] - 6s 9ms/step - loss: -79379.6406 - accuracy: 0.3028\n",
            "Epoch 16/100\n",
            "690/690 [==============================] - 6s 9ms/step - loss: -86972.7578 - accuracy: 0.3005\n",
            "Epoch 17/100\n",
            "690/690 [==============================] - 6s 9ms/step - loss: -90410.1406 - accuracy: 0.2982\n",
            "Epoch 18/100\n",
            "690/690 [==============================] - 6s 8ms/step - loss: -101228.6094 - accuracy: 0.3043\n",
            "Epoch 19/100\n",
            "690/690 [==============================] - 6s 8ms/step - loss: -108106.8047 - accuracy: 0.3023\n",
            "Epoch 20/100\n",
            "690/690 [==============================] - 6s 8ms/step - loss: -115068.2734 - accuracy: 0.2990\n",
            "Epoch 21/100\n",
            "690/690 [==============================] - 6s 8ms/step - loss: -125042.3672 - accuracy: 0.3039\n",
            "Epoch 22/100\n",
            "690/690 [==============================] - 6s 8ms/step - loss: -135396.2031 - accuracy: 0.3063\n",
            "Epoch 23/100\n",
            "690/690 [==============================] - 6s 8ms/step - loss: -143601.2500 - accuracy: 0.3077\n",
            "Epoch 24/100\n",
            "690/690 [==============================] - 6s 9ms/step - loss: -153675.8438 - accuracy: 0.3093\n",
            "Epoch 25/100\n",
            "690/690 [==============================] - 6s 9ms/step - loss: -163740.3594 - accuracy: 0.3117\n",
            "Epoch 26/100\n",
            "690/690 [==============================] - 6s 9ms/step - loss: -175571.4688 - accuracy: 0.3120\n",
            "Epoch 27/100\n",
            "690/690 [==============================] - 6s 9ms/step - loss: -175929.6562 - accuracy: 0.3005\n",
            "Epoch 28/100\n",
            "690/690 [==============================] - 6s 9ms/step - loss: -195450.0469 - accuracy: 0.3131\n",
            "Epoch 29/100\n",
            "690/690 [==============================] - 6s 9ms/step - loss: -206234.9531 - accuracy: 0.3160\n",
            "Epoch 30/100\n",
            "690/690 [==============================] - 6s 9ms/step - loss: -217394.1094 - accuracy: 0.3116\n",
            "Epoch 31/100\n",
            "690/690 [==============================] - 6s 9ms/step - loss: -230615.2500 - accuracy: 0.3109\n",
            "Epoch 32/100\n",
            "690/690 [==============================] - 6s 9ms/step - loss: -240274.8438 - accuracy: 0.3139\n",
            "Epoch 33/100\n",
            "690/690 [==============================] - 6s 9ms/step - loss: -254652.3594 - accuracy: 0.3125\n",
            "Epoch 34/100\n",
            "690/690 [==============================] - 6s 8ms/step - loss: -267763.2500 - accuracy: 0.3109\n",
            "Epoch 35/100\n",
            "690/690 [==============================] - 6s 9ms/step - loss: -280582.4688 - accuracy: 0.3118\n",
            "Epoch 36/100\n",
            "690/690 [==============================] - 6s 9ms/step - loss: -279790.4688 - accuracy: 0.3074\n",
            "Epoch 37/100\n",
            "690/690 [==============================] - 6s 8ms/step - loss: -293853.0625 - accuracy: 0.3103\n",
            "Epoch 38/100\n",
            "690/690 [==============================] - 6s 8ms/step - loss: -322722.4062 - accuracy: 0.3147\n",
            "Epoch 39/100\n",
            "690/690 [==============================] - 6s 8ms/step - loss: -337507.7812 - accuracy: 0.3180\n",
            "Epoch 40/100\n",
            "690/690 [==============================] - 6s 8ms/step - loss: -349599.3438 - accuracy: 0.3127\n",
            "Epoch 41/100\n",
            "690/690 [==============================] - 6s 9ms/step - loss: -369768.4062 - accuracy: 0.3191\n",
            "Epoch 42/100\n",
            "690/690 [==============================] - 6s 9ms/step - loss: -384057.5938 - accuracy: 0.3169\n",
            "Epoch 43/100\n",
            "690/690 [==============================] - 6s 9ms/step - loss: -401078.6562 - accuracy: 0.3211\n",
            "Epoch 44/100\n",
            "690/690 [==============================] - 6s 9ms/step - loss: -415829.7188 - accuracy: 0.3201\n",
            "Epoch 45/100\n",
            "690/690 [==============================] - 6s 9ms/step - loss: -434565.7812 - accuracy: 0.3234\n",
            "Epoch 46/100\n",
            "690/690 [==============================] - 6s 8ms/step - loss: -452350.9062 - accuracy: 0.3191\n",
            "Epoch 47/100\n",
            "690/690 [==============================] - 6s 8ms/step - loss: -466440.5312 - accuracy: 0.3201\n",
            "Epoch 48/100\n",
            "690/690 [==============================] - 6s 8ms/step - loss: -468350.4688 - accuracy: 0.3110\n",
            "Epoch 49/100\n",
            "690/690 [==============================] - 6s 8ms/step - loss: -494639.0000 - accuracy: 0.3179\n",
            "Epoch 50/100\n",
            "690/690 [==============================] - 6s 8ms/step - loss: -517694.7500 - accuracy: 0.3203\n",
            "Epoch 51/100\n",
            "690/690 [==============================] - 6s 8ms/step - loss: -539420.7500 - accuracy: 0.3237\n",
            "Epoch 52/100\n",
            "690/690 [==============================] - 6s 9ms/step - loss: -557976.2500 - accuracy: 0.3243\n",
            "Epoch 53/100\n",
            "690/690 [==============================] - 6s 9ms/step - loss: -571578.6875 - accuracy: 0.3259\n",
            "Epoch 54/100\n",
            "690/690 [==============================] - 6s 9ms/step - loss: -596373.2500 - accuracy: 0.3233\n",
            "Epoch 55/100\n",
            "690/690 [==============================] - 6s 9ms/step - loss: -608585.6250 - accuracy: 0.3255\n",
            "Epoch 56/100\n",
            "690/690 [==============================] - 6s 9ms/step - loss: -633236.1875 - accuracy: 0.3247\n",
            "Epoch 57/100\n",
            "690/690 [==============================] - 6s 8ms/step - loss: -659940.1875 - accuracy: 0.3263\n",
            "Epoch 58/100\n",
            "690/690 [==============================] - 6s 9ms/step - loss: -677287.3750 - accuracy: 0.3261\n",
            "Epoch 59/100\n",
            "690/690 [==============================] - 6s 8ms/step - loss: -699848.5625 - accuracy: 0.3300\n",
            "Epoch 60/100\n",
            "690/690 [==============================] - 6s 8ms/step - loss: -720595.7500 - accuracy: 0.3308\n",
            "Epoch 61/100\n",
            "690/690 [==============================] - 6s 8ms/step - loss: -734149.8750 - accuracy: 0.3281\n",
            "Epoch 62/100\n",
            "690/690 [==============================] - 6s 8ms/step - loss: -764888.5000 - accuracy: 0.3290\n",
            "Epoch 63/100\n",
            "690/690 [==============================] - 6s 9ms/step - loss: -785989.6875 - accuracy: 0.3302\n",
            "Epoch 64/100\n",
            "690/690 [==============================] - 6s 9ms/step - loss: -800914.3750 - accuracy: 0.3277\n",
            "Epoch 65/100\n",
            "690/690 [==============================] - 6s 9ms/step - loss: -830188.6875 - accuracy: 0.3257\n",
            "Epoch 66/100\n",
            "690/690 [==============================] - 6s 9ms/step - loss: -841397.1875 - accuracy: 0.3255\n",
            "Epoch 67/100\n",
            "690/690 [==============================] - 6s 9ms/step - loss: -871024.5000 - accuracy: 0.3252\n",
            "Epoch 68/100\n",
            "690/690 [==============================] - 6s 8ms/step - loss: -896119.1875 - accuracy: 0.3261\n",
            "Epoch 69/100\n",
            "690/690 [==============================] - 6s 8ms/step - loss: -923833.5625 - accuracy: 0.3295\n",
            "Epoch 70/100\n",
            "690/690 [==============================] - 6s 8ms/step - loss: -961968.9375 - accuracy: 0.3346\n",
            "Epoch 71/100\n",
            "690/690 [==============================] - 6s 8ms/step - loss: -985577.9375 - accuracy: 0.3302\n",
            "Epoch 72/100\n",
            "690/690 [==============================] - 6s 8ms/step - loss: -1010825.3750 - accuracy: 0.3346\n",
            "Epoch 73/100\n",
            "690/690 [==============================] - 6s 8ms/step - loss: -1029830.4375 - accuracy: 0.3305\n",
            "Epoch 74/100\n",
            "690/690 [==============================] - 6s 9ms/step - loss: -1062455.2500 - accuracy: 0.3352\n",
            "Epoch 75/100\n",
            "690/690 [==============================] - 6s 9ms/step - loss: -1089616.3750 - accuracy: 0.3362\n",
            "Epoch 76/100\n",
            "690/690 [==============================] - 6s 9ms/step - loss: -1109548.5000 - accuracy: 0.3299\n",
            "Epoch 77/100\n",
            "690/690 [==============================] - 6s 9ms/step - loss: -1134580.6250 - accuracy: 0.3337\n",
            "Epoch 78/100\n",
            "690/690 [==============================] - 6s 9ms/step - loss: -1146749.2500 - accuracy: 0.3320\n",
            "Epoch 79/100\n",
            "690/690 [==============================] - 6s 9ms/step - loss: -1196741.3750 - accuracy: 0.3311\n",
            "Epoch 80/100\n",
            "690/690 [==============================] - 6s 9ms/step - loss: -1223378.3750 - accuracy: 0.3357\n",
            "Epoch 81/100\n",
            "690/690 [==============================] - 6s 8ms/step - loss: -1254321.2500 - accuracy: 0.3351\n",
            "Epoch 82/100\n",
            "690/690 [==============================] - 6s 8ms/step - loss: -1274539.3750 - accuracy: 0.3346\n",
            "Epoch 83/100\n",
            "690/690 [==============================] - 6s 8ms/step - loss: -1322501.6250 - accuracy: 0.3393\n",
            "Epoch 84/100\n",
            "690/690 [==============================] - 6s 8ms/step - loss: -1346139.2500 - accuracy: 0.3374\n",
            "Epoch 85/100\n",
            "690/690 [==============================] - 6s 9ms/step - loss: -1380883.5000 - accuracy: 0.3380\n",
            "Epoch 86/100\n",
            "690/690 [==============================] - 6s 9ms/step - loss: -1398453.5000 - accuracy: 0.3336\n",
            "Epoch 87/100\n",
            "690/690 [==============================] - 6s 9ms/step - loss: -1414286.6250 - accuracy: 0.3328\n",
            "Epoch 88/100\n",
            "690/690 [==============================] - 6s 9ms/step - loss: -1435327.0000 - accuracy: 0.3332\n",
            "Epoch 89/100\n",
            "690/690 [==============================] - 6s 9ms/step - loss: -1498461.7500 - accuracy: 0.3376\n",
            "Epoch 90/100\n",
            "690/690 [==============================] - 6s 9ms/step - loss: -1545480.6250 - accuracy: 0.3388\n",
            "Epoch 91/100\n",
            "690/690 [==============================] - 6s 9ms/step - loss: -1582581.6250 - accuracy: 0.3381\n",
            "Epoch 92/100\n",
            "690/690 [==============================] - 6s 9ms/step - loss: -1589538.1250 - accuracy: 0.3373\n",
            "Epoch 93/100\n",
            "690/690 [==============================] - 6s 9ms/step - loss: -1624906.0000 - accuracy: 0.3369\n",
            "Epoch 94/100\n",
            "690/690 [==============================] - 6s 9ms/step - loss: -1676421.2500 - accuracy: 0.3389\n",
            "Epoch 95/100\n",
            "690/690 [==============================] - 6s 8ms/step - loss: -1707359.5000 - accuracy: 0.3372\n",
            "Epoch 96/100\n",
            "690/690 [==============================] - 6s 8ms/step - loss: -1733310.0000 - accuracy: 0.3341\n",
            "Epoch 97/100\n",
            "690/690 [==============================] - 6s 8ms/step - loss: -1780176.7500 - accuracy: 0.3391\n",
            "Epoch 98/100\n",
            "690/690 [==============================] - 6s 8ms/step - loss: -1799817.5000 - accuracy: 0.3351\n",
            "Epoch 99/100\n",
            "690/690 [==============================] - 6s 8ms/step - loss: -1845309.5000 - accuracy: 0.3337\n",
            "Epoch 100/100\n",
            "690/690 [==============================] - 6s 8ms/step - loss: -1889675.2500 - accuracy: 0.3375\n"
          ],
          "name": "stdout"
        }
      ]
    },
    {
      "cell_type": "code",
      "metadata": {
        "id": "DbUPWseJ-Qcy"
      },
      "source": [
        "import matplotlib.pyplot as plt"
      ],
      "execution_count": null,
      "outputs": []
    },
    {
      "cell_type": "code",
      "metadata": {
        "colab": {
          "base_uri": "https://localhost:8080/"
        },
        "id": "cdXL9AlZ-SYh",
        "outputId": "3fc9aa93-efb2-481b-aee9-867ebb2d88ec"
      },
      "source": [
        "plt.plot(history.history['accuracy'])\n",
        "plt.title('model accuracy')\n",
        "plt.ylabel('accuracy')\n",
        "plt.xlabel('epoch')"
      ],
      "execution_count": null,
      "outputs": [
        {
          "output_type": "execute_result",
          "data": {
            "text/plain": [
              "Text(0.5, 0, 'epoch')"
            ]
          },
          "metadata": {
            "tags": []
          },
          "execution_count": 82
        },
        {
          "output_type": "display_data",
          "data": {
            "image/png": "[encoded data removed]",
            "text/plain": [
              "<Figure size 432x288 with 1 Axes>"
            ]
          },
          "metadata": {
            "tags": [],
            "needs_background": "light"
          }
        }
      ]
    },
    {
      "cell_type": "code",
      "metadata": {
        "colab": {
          "base_uri": "https://localhost:8080/"
        },
        "id": "NCyT43Px-SbY",
        "outputId": "747c9e7f-38b4-45fa-a87f-9ce4e775e20b"
      },
      "source": [
        "pred=model2.predict_classes(x_test)"
      ],
      "execution_count": null,
      "outputs": [
        {
          "output_type": "stream",
          "text": [
            "/usr/local/lib/python3.7/dist-packages/tensorflow/python/keras/engine/sequential.py:455: UserWarning: `model.predict_classes()` is deprecated and will be removed after 2021-01-01. Please use instead:* `np.argmax(model.predict(x), axis=-1)`,   if your model does multi-class classification   (e.g. if it uses a `softmax` last-layer activation).* `(model.predict(x) > 0.5).astype(\"int32\")`,   if your model does binary classification   (e.g. if it uses a `sigmoid` last-layer activation).\n",
            "  warnings.warn('`model.predict_classes()` is deprecated and '\n"
          ],
          "name": "stderr"
        }
      ]
    },
    {
      "cell_type": "code",
      "metadata": {
        "colab": {
          "base_uri": "https://localhost:8080/"
        },
        "id": "x92c0FRy-SeD",
        "outputId": "b9f19fdf-59b3-47b9-eb5a-08b72e6503e0"
      },
      "source": [
        "pred.shape"
      ],
      "execution_count": null,
      "outputs": [
        {
          "output_type": "execute_result",
          "data": {
            "text/plain": [
              "(18900, 1)"
            ]
          },
          "metadata": {
            "tags": []
          },
          "execution_count": 84
        }
      ]
    },
    {
      "cell_type": "code",
      "metadata": {
        "id": "7869UXxz-qVk"
      },
      "source": [
        "submission_data = pd.read_csv('/content/submission.csv')"
      ],
      "execution_count": null,
      "outputs": []
    },
    {
      "cell_type": "code",
      "metadata": {
        "id": "t9jmn9p9-qYN"
      },
      "source": [
        "submission_data['label']=pred"
      ],
      "execution_count": null,
      "outputs": []
    },
    {
      "cell_type": "code",
      "metadata": {
        "id": "Su-V-KD0-qdR"
      },
      "source": [
        "submission_data.to_csv('submitnew.csv' ,index=False)"
      ],
      "execution_count": null,
      "outputs": []
    },
    {
      "cell_type": "code",
      "metadata": {
        "colab": {
          "base_uri": "https://localhost:8080/"
        },
        "id": "rU7aBz9b-qgn",
        "outputId": "fb0849ca-7ad7-49a5-bdfc-6043d0adf690"
      },
      "source": [
        "submission_data.head()"
      ],
      "execution_count": null,
      "outputs": [
        {
          "output_type": "execute_result",
          "data": {
            "text/html": [
              "<div>\n",
              "<style scoped>\n",
              "    .dataframe tbody tr th:only-of-type {\n",
              "        vertical-align: middle;\n",
              "    }\n",
              "\n",
              "    .dataframe tbody tr th {\n",
              "        vertical-align: top;\n",
              "    }\n",
              "\n",
              "    .dataframe thead th {\n",
              "        text-align: right;\n",
              "    }\n",
              "</style>\n",
              "<table border=\"1\" class=\"dataframe\">\n",
              "  <thead>\n",
              "    <tr style=\"text-align: right;\">\n",
              "      <th></th>\n",
              "      <th>Negative_0</th>\n",
              "      <th>Neutral_1</th>\n",
              "      <th>Positive_2</th>\n",
              "      <th>label</th>\n",
              "    </tr>\n",
              "  </thead>\n",
              "  <tbody>\n",
              "    <tr>\n",
              "      <th>0</th>\n",
              "      <td>0</td>\n",
              "      <td>1</td>\n",
              "      <td>0</td>\n",
              "      <td>1</td>\n",
              "    </tr>\n",
              "    <tr>\n",
              "      <th>1</th>\n",
              "      <td>1</td>\n",
              "      <td>0</td>\n",
              "      <td>0</td>\n",
              "      <td>0</td>\n",
              "    </tr>\n",
              "    <tr>\n",
              "      <th>2</th>\n",
              "      <td>0</td>\n",
              "      <td>0</td>\n",
              "      <td>1</td>\n",
              "      <td>0</td>\n",
              "    </tr>\n",
              "    <tr>\n",
              "      <th>3</th>\n",
              "      <td>0</td>\n",
              "      <td>0</td>\n",
              "      <td>0</td>\n",
              "      <td>1</td>\n",
              "    </tr>\n",
              "    <tr>\n",
              "      <th>4</th>\n",
              "      <td>0</td>\n",
              "      <td>0</td>\n",
              "      <td>0</td>\n",
              "      <td>0</td>\n",
              "    </tr>\n",
              "  </tbody>\n",
              "</table>\n",
              "</div>"
            ],
            "text/plain": [
              "   Negative_0  Neutral_1  Positive_2  label\n",
              "0           0          1           0      1\n",
              "1           1          0           0      0\n",
              "2           0          0           1      0\n",
              "3           0          0           0      1\n",
              "4           0          0           0      0"
            ]
          },
          "metadata": {
            "tags": []
          },
          "execution_count": 88
        }
      ]
    },
    {
      "cell_type": "code",
      "metadata": {
        "id": "7v6n8duQ-qix"
      },
      "source": [
        "submission_data.drop(['label'],axis='columns',inplace=True)"
      ],
      "execution_count": null,
      "outputs": []
    },
    {
      "cell_type": "code",
      "metadata": {
        "colab": {
          "base_uri": "https://localhost:8080/"
        },
        "id": "qaySA-i2-qlH",
        "outputId": "8c19aef6-dfc2-4d6a-ba2f-25125e023970"
      },
      "source": [
        "submission_data.head()"
      ],
      "execution_count": null,
      "outputs": [
        {
          "output_type": "execute_result",
          "data": {
            "text/html": [
              "<div>\n",
              "<style scoped>\n",
              "    .dataframe tbody tr th:only-of-type {\n",
              "        vertical-align: middle;\n",
              "    }\n",
              "\n",
              "    .dataframe tbody tr th {\n",
              "        vertical-align: top;\n",
              "    }\n",
              "\n",
              "    .dataframe thead th {\n",
              "        text-align: right;\n",
              "    }\n",
              "</style>\n",
              "<table border=\"1\" class=\"dataframe\">\n",
              "  <thead>\n",
              "    <tr style=\"text-align: right;\">\n",
              "      <th></th>\n",
              "      <th>Negative_0</th>\n",
              "      <th>Neutral_1</th>\n",
              "      <th>Positive_2</th>\n",
              "    </tr>\n",
              "  </thead>\n",
              "  <tbody>\n",
              "    <tr>\n",
              "      <th>0</th>\n",
              "      <td>0</td>\n",
              "      <td>1</td>\n",
              "      <td>0</td>\n",
              "    </tr>\n",
              "    <tr>\n",
              "      <th>1</th>\n",
              "      <td>1</td>\n",
              "      <td>0</td>\n",
              "      <td>0</td>\n",
              "    </tr>\n",
              "    <tr>\n",
              "      <th>2</th>\n",
              "      <td>0</td>\n",
              "      <td>0</td>\n",
              "      <td>1</td>\n",
              "    </tr>\n",
              "    <tr>\n",
              "      <th>3</th>\n",
              "      <td>0</td>\n",
              "      <td>0</td>\n",
              "      <td>0</td>\n",
              "    </tr>\n",
              "    <tr>\n",
              "      <th>4</th>\n",
              "      <td>0</td>\n",
              "      <td>0</td>\n",
              "      <td>0</td>\n",
              "    </tr>\n",
              "  </tbody>\n",
              "</table>\n",
              "</div>"
            ],
            "text/plain": [
              "   Negative_0  Neutral_1  Positive_2\n",
              "0           0          1           0\n",
              "1           1          0           0\n",
              "2           0          0           1\n",
              "3           0          0           0\n",
              "4           0          0           0"
            ]
          },
          "metadata": {
            "tags": []
          },
          "execution_count": 91
        }
      ]
    },
    {
      "cell_type": "code",
      "metadata": {
        "id": "TGZp6v2d-SgS"
      },
      "source": [
        "submission_data.to_csv('submitnew1.csv' ,index=False)"
      ],
      "execution_count": null,
      "outputs": []
    }
  ]
}